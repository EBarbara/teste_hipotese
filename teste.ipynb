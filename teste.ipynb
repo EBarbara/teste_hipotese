{
 "cells": [
  {
   "cell_type": "code",
   "execution_count": 52,
   "metadata": {},
   "outputs": [],
   "source": [
    "#importações\n",
    "import pandas as pd"
   ]
  },
  {
   "cell_type": "code",
   "execution_count": 53,
   "metadata": {},
   "outputs": [],
   "source": [
    "#carregar o dataset\n",
    "bol_soma = pd.read_csv('data/BOL_SOMA.csv')"
   ]
  },
  {
   "cell_type": "code",
   "execution_count": 54,
   "metadata": {},
   "outputs": [],
   "source": [
    "#gerar o dataset resumido\n",
    "bol_soma_resumido = bol_soma.copy()\n",
    "info_cols = [x for x in range(42, 70)]\n",
    "bol_soma_resumido.drop(bol_soma_resumido.columns[info_cols],axis=1,inplace=True)"
   ]
  },
  {
   "cell_type": "code",
   "execution_count": 89,
   "metadata": {},
   "outputs": [],
   "source": [
    "#definição da função n\n",
    "def metodo_n(input_resumo, tamanho_resposta):\n",
    "    avaliacao_crowd = {}\n",
    "    for x in range(1, 43):\n",
    "        avaliacao_crowd[x] = input_resumo[f'{x}'].sum()\n",
    "    import operator\n",
    "    avaliacao_crowd_ordenada = sorted(avaliacao_crowd.items(), key=operator.itemgetter(1), reverse=True)\n",
    "    melhores_valores = {}\n",
    "    for y in range(0, tamanho_resposta):\n",
    "        melhores_valores[y + 1] = avaliacao_crowd_ordenada[y][0]\n",
    "    return melhores_valores\n",
    "    #TODO ação quando há empate entre o último selecionado e o primeiro abandonado"
   ]
  },
  {
   "cell_type": "code",
   "execution_count": 90,
   "metadata": {},
   "outputs": [
    {
     "name": "stdout",
     "output_type": "stream",
     "text": [
      "{1: 4, 2: 18, 3: 15, 4: 25, 5: 36, 6: 2}\n"
     ]
    }
   ],
   "source": [
    "n_result = metodo_n(bol_soma_resumido, 6)\n",
    "print(n_result)"
   ]
  },
  {
   "cell_type": "code",
   "execution_count": null,
   "metadata": {},
   "outputs": [],
   "source": [
    "#definicao da função p\n",
    "def metodo_p():"
   ]
  }
 ],
 "metadata": {
  "kernelspec": {
   "display_name": "Python 3",
   "language": "python",
   "name": "python3"
  },
  "language_info": {
   "codemirror_mode": {
    "name": "ipython",
    "version": 3
   },
   "file_extension": ".py",
   "mimetype": "text/x-python",
   "name": "python",
   "nbconvert_exporter": "python",
   "pygments_lexer": "ipython3",
   "version": "3.6.4"
  }
 },
 "nbformat": 4,
 "nbformat_minor": 1
}
