{
 "cells": [
  {
   "cell_type": "markdown",
   "metadata": {},
   "source": [
    "## Preparação"
   ]
  },
  {
   "cell_type": "code",
   "execution_count": null,
   "metadata": {},
   "outputs": [],
   "source": [
    "#importações\n",
    "import numpy as np\n",
    "import pandas as pd\n",
    "import matplotlib.pyplot as plt\n",
    "from mpl_toolkits.mplot3d import Axes3D\n",
    "from sklearn.decomposition import PCA\n",
    "from sklearn.preprocessing import StandardScaler\n",
    "from sklearn.cluster import KMeans\n",
    "% matplotlib inline\n"
   ]
  },
  {
   "cell_type": "code",
   "execution_count": 53,
   "metadata": {},
   "outputs": [],
   "source": [
    "#carregar o dataset\n",
    "bol_soma = pd.read_csv('data/BOL_SOMA.csv')\n",
    "especialistas = pd.read_csv('data/Especialistas.csv')"
   ]
  },
  {
   "cell_type": "code",
   "execution_count": 54,
   "metadata": {},
   "outputs": [],
   "source": [
    "#gerar o dataset resumido\n",
    "bol_soma_resumido = bol_soma.copy()\n",
    "info_cols = [x for x in range(42, 70)]\n",
    "bol_soma_resumido.drop(bol_soma_resumido.columns[info_cols],axis=1,inplace=True)"
   ]
  },
  {
   "cell_type": "code",
   "execution_count": 89,
   "metadata": {},
   "outputs": [],
   "source": [
    "#pré-processar o dataset de gabarito\n",
    "gabarito = especialistas.sort_values(by='Avaliacao_Media', ascending=False)\n",
    "gabarito.index = gabarito.index + 1\n",
    "gabarito.drop(columns=['Proposta'], inplace=True)"
   ]
  },
  {
   "cell_type": "code",
   "execution_count": 90,
   "metadata": {},
   "outputs": [
    {
     "name": "stdout",
     "output_type": "stream",
     "text": [
      "{1: 4, 2: 18, 3: 15, 4: 25, 5: 36, 6: 2}\n"
     ]
    }
   ],
   "source": [
    "#definir tamanho da resposta\n",
    "resp_size = 21"
   ]
  },
  {
   "cell_type": "code",
   "execution_count": null,
   "metadata": {},
   "outputs": [],
   "source": [
    "def evaluate(dataset, gabarito):\n",
    "    hit = 0\n",
    "    for proposta in n_result_cut.index:\n",
    "        if(proposta in gabarito_cut.index):\n",
    "            print(f'Hit on {proposta}')\n",
    "            hit += 1\n",
    "    print(f'{hit} hits')"
   ]
  },
  {
   "cell_type": "markdown",
   "metadata": {},
   "source": [
    "## Método N"
   ]
  },
  {
   "cell_type": "code",
   "execution_count": null,
   "metadata": {},
   "outputs": [],
   "source": [
    "n_result = pd.DataFrame(\n",
    "    [[bol_soma_resumido[f'{x}'].sum()]for x in range(1, 43)], \n",
    "    columns=['avaliacao'], \n",
    "    index=range(1, 43)).sort_values(by='avaliacao', ascending=False)"
   ]
  },
  {
   "cell_type": "markdown",
   "metadata": {},
   "source": [
    "## Método P"
   ]
  },
  {
   "cell_type": "code",
   "execution_count": null,
   "metadata": {},
   "outputs": [],
   "source": [
    "#Normalizando o dataframe\n",
    "bol_std = StandardScaler().fit_transform(bol_soma)"
   ]
  },
  {
   "cell_type": "code",
   "execution_count": null,
   "metadata": {},
   "outputs": [],
   "source": [
    "#Rodando o PCA\n",
    "pca = PCA(n_components=3)\n",
    "matriz = bol_soma.values[:, 42:70]\n",
    "matriz_std = StandardScaler().fit_transform(matriz)\n",
    "pca.fit(matriz_std)\n",
    "print(sum(pca.explained_variance_ratio_))\n",
    "plt.plot(pca.explained_variance_ratio_)"
   ]
  },
  {
   "cell_type": "code",
   "execution_count": null,
   "metadata": {},
   "outputs": [],
   "source": [
    "#Running PCA and reconstructing\n",
    "bol_pca = pca.transform(matriz_std)\n",
    "bol_reconstruct = pca.inverse_transform(bol_pca)"
   ]
  },
  {
   "cell_type": "code",
   "execution_count": null,
   "metadata": {},
   "outputs": [],
   "source": [
    "#Running K-Means\n",
    "kmeans = KMeans(n_clusters=2, random_state=0).fit(bol_pca)\n",
    "classes = kmeans.labels_\n",
    "fig = plt.figure()\n",
    "ax = fig.add_subplot(111, projection='3d')\n",
    "\n",
    "\n",
    "for index, row in enumerate(bol_pca):\n",
    "    if classes[index] == 0:\n",
    "        color = 'b'\n",
    "    else:\n",
    "        color = 'r'\n",
    "    \n",
    "    ax.scatter(row[0], row[1], row[2], color=color)\n",
    "\n",
    "\n"
   ]
  }
 ],
 "metadata": {
  "kernelspec": {
   "display_name": "Python 3",
   "language": "python",
   "name": "python3"
  },
  "language_info": {
   "codemirror_mode": {
    "name": "ipython",
    "version": 3
   },
   "file_extension": ".py",
   "mimetype": "text/x-python",
   "name": "python",
   "nbconvert_exporter": "python",
   "pygments_lexer": "ipython3",
   "version": "3.6.4"
  }
 },
 "nbformat": 4,
 "nbformat_minor": 1
}
