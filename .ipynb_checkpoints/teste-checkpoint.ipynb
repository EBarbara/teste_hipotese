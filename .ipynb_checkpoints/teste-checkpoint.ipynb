{
 "cells": [
  {
   "cell_type": "code",
   "execution_count": 1,
   "metadata": {},
   "outputs": [],
   "source": [
    "#importações\n",
    "import pandas as pd"
   ]
  },
  {
   "cell_type": "code",
   "execution_count": 2,
   "metadata": {},
   "outputs": [],
   "source": [
    "#carregar o dataset\n",
    "bol_soma = pd.read_csv('data/BOL_SOMA.csv')\n",
    "gabarito = pd.read_csv('data/Especialistas.csv')"
   ]
  },
  {
   "cell_type": "code",
   "execution_count": 3,
   "metadata": {},
   "outputs": [],
   "source": [
    "#gerar o dataset resumido\n",
    "bol_soma_resumido = bol_soma.copy()\n",
    "info_cols = [x for x in range(42, 70)]\n",
    "bol_soma_resumido.drop(bol_soma_resumido.columns[info_cols],axis=1,inplace=True)"
   ]
  },
  {
   "cell_type": "code",
   "execution_count": 30,
   "metadata": {},
   "outputs": [],
   "source": [
    "#definição da função n\n",
    "def metodo_n(input_resumo, tamanho_resposta):\n",
    "    avaliacao_crowd = []\n",
    "    for x in range(1, 43):\n",
    "        avaliacao_crowd.append([input_resumo[f'{x}'].sum()])\n",
    "    datafrm = pd.DataFrame(avaliacao_crowd, columns=['avaliacao'])\n",
    "    datafrm.index = datafrm.index + 1\n",
    "    return datafrm\n",
    "    #TODO ação quando há empate entre o último selecionado e o primeiro abandonado"
   ]
  },
  {
   "cell_type": "code",
   "execution_count": 32,
   "metadata": {},
   "outputs": [],
   "source": [
    "n_result.sort_values?"
   ]
  },
  {
   "cell_type": "code",
   "execution_count": 33,
   "metadata": {},
   "outputs": [
    {
     "name": "stdout",
     "output_type": "stream",
     "text": [
      "    avaliacao\n",
      "1         -10\n",
      "2          -8\n",
      "3          -9\n",
      "4          -2\n",
      "5         -15\n",
      "6         -38\n",
      "7         -34\n",
      "8         -31\n",
      "9         -24\n",
      "10        -12\n",
      "11        -13\n",
      "12        -12\n",
      "13        -24\n",
      "14        -37\n",
      "15         -5\n",
      "16        -13\n",
      "17         -8\n",
      "18         -2\n",
      "19        -23\n",
      "20        -28\n",
      "21        -19\n",
      "22        -37\n",
      "23        -54\n",
      "24        -14\n",
      "25         -6\n",
      "26        -19\n",
      "27        -54\n",
      "28        -28\n",
      "29        -21\n",
      "30        -13\n",
      "31         -8\n",
      "32        -13\n",
      "33        -33\n",
      "34        -26\n",
      "35        -11\n",
      "36         -6\n",
      "37        -10\n",
      "38        -40\n",
      "39        -18\n",
      "40        -18\n",
      "41        -32\n",
      "42        -26\n"
     ]
    },
    {
     "data": {
      "text/html": [
       "<div>\n",
       "<style scoped>\n",
       "    .dataframe tbody tr th:only-of-type {\n",
       "        vertical-align: middle;\n",
       "    }\n",
       "\n",
       "    .dataframe tbody tr th {\n",
       "        vertical-align: top;\n",
       "    }\n",
       "\n",
       "    .dataframe thead th {\n",
       "        text-align: right;\n",
       "    }\n",
       "</style>\n",
       "<table border=\"1\" class=\"dataframe\">\n",
       "  <thead>\n",
       "    <tr style=\"text-align: right;\">\n",
       "      <th></th>\n",
       "      <th>avaliacao</th>\n",
       "    </tr>\n",
       "  </thead>\n",
       "  <tbody>\n",
       "    <tr>\n",
       "      <th>4</th>\n",
       "      <td>-2</td>\n",
       "    </tr>\n",
       "    <tr>\n",
       "      <th>18</th>\n",
       "      <td>-2</td>\n",
       "    </tr>\n",
       "    <tr>\n",
       "      <th>15</th>\n",
       "      <td>-5</td>\n",
       "    </tr>\n",
       "    <tr>\n",
       "      <th>36</th>\n",
       "      <td>-6</td>\n",
       "    </tr>\n",
       "    <tr>\n",
       "      <th>25</th>\n",
       "      <td>-6</td>\n",
       "    </tr>\n",
       "  </tbody>\n",
       "</table>\n",
       "</div>"
      ],
      "text/plain": [
       "    avaliacao\n",
       "4          -2\n",
       "18         -2\n",
       "15         -5\n",
       "36         -6\n",
       "25         -6"
      ]
     },
     "execution_count": 33,
     "metadata": {},
     "output_type": "execute_result"
    }
   ],
   "source": [
    "n_result = metodo_n(bol_soma_resumido, 6)\n",
    "print(n_result)\n",
    "n_result.sort_values(by='avaliacao', ascending=False).head()"
   ]
  },
  {
   "cell_type": "code",
   "execution_count": null,
   "metadata": {},
   "outputs": [],
   "source": [
    "#definição de teste de precisão/recall\n",
    "def check_results(n_result, gabarito):\n",
    "    "
   ]
  },
  {
   "cell_type": "code",
   "execution_count": null,
   "metadata": {},
   "outputs": [],
   "source": [
    "#definicao da função p\n",
    "def metodo_p():"
   ]
  }
 ],
 "metadata": {
  "kernelspec": {
   "display_name": "Python 3",
   "language": "python",
   "name": "python3"
  },
  "language_info": {
   "codemirror_mode": {
    "name": "ipython",
    "version": 3
   },
   "file_extension": ".py",
   "mimetype": "text/x-python",
   "name": "python",
   "nbconvert_exporter": "python",
   "pygments_lexer": "ipython3",
   "version": "3.6.4"
  }
 },
 "nbformat": 4,
 "nbformat_minor": 1
}
