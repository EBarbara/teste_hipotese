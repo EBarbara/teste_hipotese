{
 "cells": [
  {
   "cell_type": "markdown",
   "metadata": {},
   "source": [
    "## Preparação"
   ]
  },
  {
   "cell_type": "code",
   "execution_count": 2,
   "metadata": {},
   "outputs": [],
   "source": [
    "#importações\n",
    "import pandas as pd"
   ]
  },
  {
   "cell_type": "code",
   "execution_count": 3,
   "metadata": {},
   "outputs": [],
   "source": [
    "#carregar o dataset\n",
    "bol_soma = pd.read_csv('data/BOL_SOMA.csv')\n",
    "especialistas = pd.read_csv('data/Especialistas.csv')"
   ]
  },
  {
   "cell_type": "code",
   "execution_count": 3,
   "metadata": {},
   "outputs": [],
   "source": [
    "#gerar o dataset resumido\n",
    "bol_soma_resumido = bol_soma.copy()\n",
    "info_cols = [x for x in range(42, 70)]\n",
    "bol_soma_resumido.drop(bol_soma_resumido.columns[info_cols],axis=1,inplace=True)"
   ]
  },
  {
   "cell_type": "code",
   "execution_count": 5,
   "metadata": {},
   "outputs": [],
   "source": [
    "#pré-processar o dataset de gabarito\n",
    "gabarito = especialistas.sort_values(by='Avaliacao_Media', ascending=False)\n",
    "gabarito.index = gabarito.index + 1\n",
    "gabarito.drop(columns=['Proposta'], inplace=True)"
   ]
  },
  {
   "cell_type": "code",
   "execution_count": 42,
   "metadata": {},
   "outputs": [],
   "source": [
    "#definir tamanho da resposta\n",
    "resp_size = 6"
   ]
  },
  {
   "cell_type": "markdown",
   "metadata": {},
   "source": [
    "## Método N"
   ]
  },
  {
   "cell_type": "code",
   "execution_count": 40,
   "metadata": {},
   "outputs": [],
   "source": [
    "n_result = pd.DataFrame(\n",
    "    [[bol_soma_resumido[f'{x}'].sum()]for x in range(1, 43)], \n",
    "    columns=['avaliacao'], \n",
    "    index=range(1, 43)).sort_values(by='avaliacao', ascending=False)"
   ]
  },
  {
   "cell_type": "code",
   "execution_count": 57,
   "metadata": {},
   "outputs": [
    {
     "name": "stdout",
     "output_type": "stream",
     "text": [
      "    Avaliacao_Media\n",
      "19             4.50\n",
      "36             4.50\n",
      "42             4.33\n",
      "4              4.25\n",
      "30             4.00\n",
      "28             4.00\n"
     ]
    }
   ],
   "source": [
    "sorted_gabarito = gabarito.sort_values(by='Avaliacao_Media', ascending=False)\n",
    "sorted_gabarito.index = sorted_gabarito.index + 1\n",
    "sorted_gabarito.drop(columns=['Proposta'], inplace=True)\n",
    "print(sorted_gabarito[:resp_size])"
   ]
  },
  {
   "cell_type": "code",
   "execution_count": null,
   "metadata": {},
   "outputs": [],
   "source": [
    "#definicao da função p\n",
    "def metodo_p():"
   ]
  }
 ],
 "metadata": {
  "kernelspec": {
   "display_name": "Python 3",
   "language": "python",
   "name": "python3"
  },
  "language_info": {
   "codemirror_mode": {
    "name": "ipython",
    "version": 3
   },
   "file_extension": ".py",
   "mimetype": "text/x-python",
   "name": "python",
   "nbconvert_exporter": "python",
   "pygments_lexer": "ipython3",
   "version": "3.6.4"
  }
 },
 "nbformat": 4,
 "nbformat_minor": 1
}
