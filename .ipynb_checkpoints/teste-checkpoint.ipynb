{
 "cells": [
  {
   "cell_type": "markdown",
   "metadata": {},
   "source": [
    "## Preparação"
   ]
  },
  {
   "cell_type": "code",
   "execution_count": 13,
   "metadata": {},
   "outputs": [
    {
     "ename": "ModuleNotFoundError",
     "evalue": "No module named 'sklearn'",
     "output_type": "error",
     "traceback": [
      "\u001b[1;31m---------------------------------------------------------------------------\u001b[0m",
      "\u001b[1;31mModuleNotFoundError\u001b[0m                       Traceback (most recent call last)",
      "\u001b[1;32m<ipython-input-13-31928af6b780>\u001b[0m in \u001b[0;36m<module>\u001b[1;34m()\u001b[0m\n\u001b[0;32m      1\u001b[0m \u001b[1;31m#importações\u001b[0m\u001b[1;33m\u001b[0m\u001b[1;33m\u001b[0m\u001b[0m\n\u001b[0;32m      2\u001b[0m \u001b[1;32mimport\u001b[0m \u001b[0mpandas\u001b[0m \u001b[1;32mas\u001b[0m \u001b[0mpd\u001b[0m\u001b[1;33m\u001b[0m\u001b[0m\n\u001b[1;32m----> 3\u001b[1;33m \u001b[1;32mfrom\u001b[0m \u001b[0msklearn\u001b[0m\u001b[1;33m.\u001b[0m\u001b[0mdecomposition\u001b[0m \u001b[1;32mimport\u001b[0m \u001b[0mPCA\u001b[0m\u001b[1;33m\u001b[0m\u001b[0m\n\u001b[0m",
      "\u001b[1;31mModuleNotFoundError\u001b[0m: No module named 'sklearn'"
     ]
    }
   ],
   "source": [
    "#importações\n",
    "import pandas as pd\n",
    "from sklearn.decomposition import PCA"
   ]
  },
  {
   "cell_type": "code",
   "execution_count": 2,
   "metadata": {},
   "outputs": [],
   "source": [
    "#carregar o dataset\n",
    "bol_soma = pd.read_csv('data/BOL_SOMA.csv')\n",
    "especialistas = pd.read_csv('data/Especialistas.csv')"
   ]
  },
  {
   "cell_type": "code",
   "execution_count": 3,
   "metadata": {},
   "outputs": [],
   "source": [
    "#gerar o dataset resumido\n",
    "bol_soma_resumido = bol_soma.copy()\n",
    "info_cols = [x for x in range(42, 70)]\n",
    "bol_soma_resumido.drop(bol_soma_resumido.columns[info_cols],axis=1,inplace=True)"
   ]
  },
  {
   "cell_type": "code",
   "execution_count": 4,
   "metadata": {},
   "outputs": [],
   "source": [
    "#pré-processar o dataset de gabarito\n",
    "gabarito = especialistas.sort_values(by='Avaliacao_Media', ascending=False)\n",
    "gabarito.index = gabarito.index + 1\n",
    "gabarito.drop(columns=['Proposta'], inplace=True)"
   ]
  },
  {
   "cell_type": "code",
   "execution_count": 9,
   "metadata": {},
   "outputs": [],
   "source": [
    "#definir tamanho da resposta\n",
    "resp_size = 21"
   ]
  },
  {
   "cell_type": "code",
   "execution_count": 11,
   "metadata": {},
   "outputs": [],
   "source": [
    "def evaluate(dataset, gabarito):\n",
    "    hit = 0\n",
    "    for proposta in n_result_cut.index:\n",
    "        if(proposta in gabarito_cut.index):\n",
    "            print(f'Hit on {proposta}')\n",
    "            hit += 1\n",
    "    print(f'{hit} hits')"
   ]
  },
  {
   "cell_type": "markdown",
   "metadata": {},
   "source": [
    "## Método N"
   ]
  },
  {
   "cell_type": "code",
   "execution_count": 10,
   "metadata": {},
   "outputs": [],
   "source": [
    "n_result = pd.DataFrame(\n",
    "    [[bol_soma_resumido[f'{x}'].sum()]for x in range(1, 43)], \n",
    "    columns=['avaliacao'], \n",
    "    index=range(1, 43)).sort_values(by='avaliacao', ascending=False)"
   ]
  },
  {
   "cell_type": "markdown",
   "metadata": {},
   "source": [
    "## Método P"
   ]
  },
  {
   "cell_type": "code",
   "execution_count": null,
   "metadata": {},
   "outputs": [],
   "source": []
  },
  {
   "cell_type": "code",
   "execution_count": 12,
   "metadata": {},
   "outputs": [
    {
     "name": "stdout",
     "output_type": "stream",
     "text": [
      "Hit on 4\n",
      "Hit on 18\n",
      "Hit on 15\n",
      "Hit on 36\n",
      "Hit on 25\n",
      "Hit on 2\n",
      "Hit on 1\n",
      "Hit on 37\n",
      "Hit on 35\n",
      "Hit on 16\n",
      "Hit on 30\n",
      "Hit on 24\n",
      "12 hits\n"
     ]
    }
   ],
   "source": [
    "n_result_cut = n_result.head(resp_size)\n",
    "gabarito_cut = gabarito.head(resp_size)\n",
    "\n",
    "evaluate(n_result_cut, gabarito_cut)"
   ]
  }
 ],
 "metadata": {
  "kernelspec": {
   "display_name": "Python 3",
   "language": "python",
   "name": "python3"
  },
  "language_info": {
   "codemirror_mode": {
    "name": "ipython",
    "version": 3
   },
   "file_extension": ".py",
   "mimetype": "text/x-python",
   "name": "python",
   "nbconvert_exporter": "python",
   "pygments_lexer": "ipython3",
   "version": "3.6.4"
  }
 },
 "nbformat": 4,
 "nbformat_minor": 1
}
